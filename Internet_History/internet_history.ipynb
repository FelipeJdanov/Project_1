{
 "cells": [
  {
   "cell_type": "markdown",
   "id": "08a61e34-9562-4373-8df5-607dfe69ac7b",
   "metadata": {},
   "source": [
    "# Technical Requirements\n",
    "\n",
    "## The technical requirements for Project 1 are as follows:\n",
    " * Use Pandas to clean and format all dataset(s).\n",
    " * Create a Jupyter Notebook describing the data exploration and cleanup process.\n",
    " * Create a Jupyter Notebook illustrating the final data analysis.\n",
    " * Use PyViz, GeoViews, and Hvplot to create six to eight data visualizations (ideally, at least two per question asked of the data).\n",
    " * Save PNG images of the visualizations to distribute to the class and instructional team, as well as for the presentation, and your repo's README.md file.\n",
    " * Use one new Python library that hasn't been covered in class.\n",
    " \n",
    " * Optional: Use at least one API, if an API can be found with data pertinent to your primary research questions.\n",
    "\n",
    " * Create a README.md in your repo with a write-up summarizing your major findings. This should include a heading for each question that was asked of your data, with a short description of what you found and any relevant plots under each heading."
   ]
  },
  {
   "cell_type": "code",
   "execution_count": null,
   "id": "ea8b46a3-d4b6-4b7e-99bd-c2258737bf41",
   "metadata": {},
   "outputs": [],
   "source": []
  }
 ],
 "metadata": {
  "kernelspec": {
   "display_name": "Python 3 (ipykernel)",
   "language": "python",
   "name": "python3"
  },
  "language_info": {
   "codemirror_mode": {
    "name": "ipython",
    "version": 3
   },
   "file_extension": ".py",
   "mimetype": "text/x-python",
   "name": "python",
   "nbconvert_exporter": "python",
   "pygments_lexer": "ipython3",
   "version": "3.7.13"
  }
 },
 "nbformat": 4,
 "nbformat_minor": 5
}
